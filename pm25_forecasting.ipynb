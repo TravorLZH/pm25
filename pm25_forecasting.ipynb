{
 "cells": [
  {
   "cell_type": "markdown",
   "metadata": {},
   "source": [
    "# Predicting PM2.5 concentrations via rolling forecasting"
   ]
  },
  {
   "cell_type": "code",
   "execution_count": 1,
   "metadata": {},
   "outputs": [
    {
     "data": {
      "text/html": [
       "<div>\n",
       "<style scoped>\n",
       "    .dataframe tbody tr th:only-of-type {\n",
       "        vertical-align: middle;\n",
       "    }\n",
       "\n",
       "    .dataframe tbody tr th {\n",
       "        vertical-align: top;\n",
       "    }\n",
       "\n",
       "    .dataframe thead th {\n",
       "        text-align: right;\n",
       "    }\n",
       "</style>\n",
       "<table border=\"1\" class=\"dataframe\">\n",
       "  <thead>\n",
       "    <tr style=\"text-align: right;\">\n",
       "      <th></th>\n",
       "      <th>year</th>\n",
       "      <th>month</th>\n",
       "      <th>day</th>\n",
       "      <th>hour</th>\n",
       "      <th>season</th>\n",
       "      <th>PM</th>\n",
       "      <th>DEWP</th>\n",
       "      <th>HUMI</th>\n",
       "      <th>PRES</th>\n",
       "      <th>TEMP</th>\n",
       "      <th>...</th>\n",
       "      <th>precipitation_max</th>\n",
       "      <th>Iws_max</th>\n",
       "      <th>PM_max</th>\n",
       "      <th>TEMP_min</th>\n",
       "      <th>DEWP_min</th>\n",
       "      <th>HUMI_min</th>\n",
       "      <th>PRES_min</th>\n",
       "      <th>precipitation_min</th>\n",
       "      <th>Iws_min</th>\n",
       "      <th>PM_min</th>\n",
       "    </tr>\n",
       "  </thead>\n",
       "  <tbody>\n",
       "    <tr>\n",
       "      <th>0</th>\n",
       "      <td>2010</td>\n",
       "      <td>1</td>\n",
       "      <td>3</td>\n",
       "      <td>0</td>\n",
       "      <td>4</td>\n",
       "      <td>63.0</td>\n",
       "      <td>-7.0</td>\n",
       "      <td>92.0</td>\n",
       "      <td>1027.0</td>\n",
       "      <td>-6.0</td>\n",
       "      <td>...</td>\n",
       "      <td>0.4</td>\n",
       "      <td>58.56</td>\n",
       "      <td>181.0</td>\n",
       "      <td>-14.0</td>\n",
       "      <td>-21.0</td>\n",
       "      <td>25.0</td>\n",
       "      <td>1014.0</td>\n",
       "      <td>0.0</td>\n",
       "      <td>0.89</td>\n",
       "      <td>63.0</td>\n",
       "    </tr>\n",
       "    <tr>\n",
       "      <th>1</th>\n",
       "      <td>2010</td>\n",
       "      <td>1</td>\n",
       "      <td>3</td>\n",
       "      <td>1</td>\n",
       "      <td>4</td>\n",
       "      <td>65.0</td>\n",
       "      <td>-8.0</td>\n",
       "      <td>85.0</td>\n",
       "      <td>1026.0</td>\n",
       "      <td>-6.0</td>\n",
       "      <td>...</td>\n",
       "      <td>0.5</td>\n",
       "      <td>61.69</td>\n",
       "      <td>181.0</td>\n",
       "      <td>-14.0</td>\n",
       "      <td>-21.0</td>\n",
       "      <td>25.0</td>\n",
       "      <td>1014.0</td>\n",
       "      <td>0.0</td>\n",
       "      <td>0.89</td>\n",
       "      <td>63.0</td>\n",
       "    </tr>\n",
       "    <tr>\n",
       "      <th>2</th>\n",
       "      <td>2010</td>\n",
       "      <td>1</td>\n",
       "      <td>3</td>\n",
       "      <td>2</td>\n",
       "      <td>4</td>\n",
       "      <td>55.0</td>\n",
       "      <td>-8.0</td>\n",
       "      <td>92.0</td>\n",
       "      <td>1026.0</td>\n",
       "      <td>-7.0</td>\n",
       "      <td>...</td>\n",
       "      <td>0.5</td>\n",
       "      <td>65.71</td>\n",
       "      <td>181.0</td>\n",
       "      <td>-14.0</td>\n",
       "      <td>-21.0</td>\n",
       "      <td>25.0</td>\n",
       "      <td>1014.0</td>\n",
       "      <td>0.0</td>\n",
       "      <td>0.89</td>\n",
       "      <td>55.0</td>\n",
       "    </tr>\n",
       "    <tr>\n",
       "      <th>3</th>\n",
       "      <td>2010</td>\n",
       "      <td>1</td>\n",
       "      <td>3</td>\n",
       "      <td>3</td>\n",
       "      <td>4</td>\n",
       "      <td>65.0</td>\n",
       "      <td>-8.0</td>\n",
       "      <td>92.0</td>\n",
       "      <td>1025.0</td>\n",
       "      <td>-7.0</td>\n",
       "      <td>...</td>\n",
       "      <td>0.7</td>\n",
       "      <td>68.84</td>\n",
       "      <td>181.0</td>\n",
       "      <td>-12.0</td>\n",
       "      <td>-20.0</td>\n",
       "      <td>25.0</td>\n",
       "      <td>1014.0</td>\n",
       "      <td>0.0</td>\n",
       "      <td>0.89</td>\n",
       "      <td>55.0</td>\n",
       "    </tr>\n",
       "    <tr>\n",
       "      <th>4</th>\n",
       "      <td>2010</td>\n",
       "      <td>1</td>\n",
       "      <td>3</td>\n",
       "      <td>4</td>\n",
       "      <td>4</td>\n",
       "      <td>83.0</td>\n",
       "      <td>-8.0</td>\n",
       "      <td>92.0</td>\n",
       "      <td>1024.0</td>\n",
       "      <td>-7.0</td>\n",
       "      <td>...</td>\n",
       "      <td>1.2</td>\n",
       "      <td>72.86</td>\n",
       "      <td>181.0</td>\n",
       "      <td>-10.0</td>\n",
       "      <td>-20.0</td>\n",
       "      <td>25.0</td>\n",
       "      <td>1014.0</td>\n",
       "      <td>0.0</td>\n",
       "      <td>0.89</td>\n",
       "      <td>55.0</td>\n",
       "    </tr>\n",
       "  </tbody>\n",
       "</table>\n",
       "<p>5 rows × 372 columns</p>\n",
       "</div>"
      ],
      "text/plain": [
       "   year  month  day  hour  season    PM  DEWP  HUMI    PRES  TEMP  ...  \\\n",
       "0  2010      1    3     0       4  63.0  -7.0  92.0  1027.0  -6.0  ...   \n",
       "1  2010      1    3     1       4  65.0  -8.0  85.0  1026.0  -6.0  ...   \n",
       "2  2010      1    3     2       4  55.0  -8.0  92.0  1026.0  -7.0  ...   \n",
       "3  2010      1    3     3       4  65.0  -8.0  92.0  1025.0  -7.0  ...   \n",
       "4  2010      1    3     4       4  83.0  -8.0  92.0  1024.0  -7.0  ...   \n",
       "\n",
       "   precipitation_max  Iws_max  PM_max  TEMP_min  DEWP_min  HUMI_min  PRES_min  \\\n",
       "0                0.4    58.56   181.0     -14.0     -21.0      25.0    1014.0   \n",
       "1                0.5    61.69   181.0     -14.0     -21.0      25.0    1014.0   \n",
       "2                0.5    65.71   181.0     -14.0     -21.0      25.0    1014.0   \n",
       "3                0.7    68.84   181.0     -12.0     -20.0      25.0    1014.0   \n",
       "4                1.2    72.86   181.0     -10.0     -20.0      25.0    1014.0   \n",
       "\n",
       "   precipitation_min  Iws_min  PM_min  \n",
       "0                0.0     0.89    63.0  \n",
       "1                0.0     0.89    63.0  \n",
       "2                0.0     0.89    55.0  \n",
       "3                0.0     0.89    55.0  \n",
       "4                0.0     0.89    55.0  \n",
       "\n",
       "[5 rows x 372 columns]"
      ]
     },
     "execution_count": 1,
     "metadata": {},
     "output_type": "execute_result"
    }
   ],
   "source": [
    "import pandas as pd\n",
    "import numpy as np\n",
    "import matplotlib.pyplot as plt\n",
    "import os\n",
    "from tqdm import tqdm\n",
    "from pm25_hyperparameters import *\n",
    "\n",
    "data=pd.read_csv(\"BeijingPM_dataset.csv\")\n",
    "picker=data[\"date\"]\n",
    "picker_test=picker[(picker>=\"2015-09-01 00:00:00\") & (picker<\"2015-09-03 00:00:00\")]\n",
    "test_idx=list(picker_test.index)\n",
    "data.drop(\"date\",axis=1,inplace=True)\n",
    "data.head()"
   ]
  },
  {
   "cell_type": "markdown",
   "metadata": {},
   "source": [
    "## Parameters and functions used for model training and testing"
   ]
  },
  {
   "cell_type": "code",
   "execution_count": 2,
   "metadata": {},
   "outputs": [],
   "source": [
    "x_met=[\"year\",\"month\",\"day\",\"hour\",\"season\"]\n",
    "y_met=list(set(prim_fea)-set([\"PM\"]))\n",
    "\n",
    "datetime_cols=[\"is_holiday\",\"is_special_event\"]\n",
    "\n",
    "x_pm=list(set(data.columns)-set([\"PM\"])-set(datetime_cols))\n",
    "\n",
    "def fill_fea(df,pos,cols):\n",
    "    df.loc[pos,]\n",
    "    for col in cols:\n",
    "        lagtmp=[]\n",
    "        for t in range(1,lag_hours+1):\n",
    "            if pos-t>=test_idx[0]:\n",
    "                x=df.loc[pos-t,col]\n",
    "            else:\n",
    "                x=data.loc[pos-t,col]\n",
    "            df.loc[pos,\"%s_lag%d\" % (col,t)]=x\n",
    "            lagtmp.append(x)\n",
    "        df.loc[pos,\"%s_mean\" % col]=np.mean(lagtmp)\n",
    "        df.loc[pos,\"%s_min\" % col]=np.min(lagtmp)\n",
    "        df.loc[pos,\"%s_max\" % col]=np.max(lagtmp)\n",
    "        \n",
    "lowbs=list(range(test_idx[0],test_idx[-1],24))"
   ]
  },
  {
   "cell_type": "markdown",
   "metadata": {},
   "source": [
    "## Prepare the testing set for PM2.5 prediction"
   ]
  },
  {
   "cell_type": "code",
   "execution_count": 3,
   "metadata": {},
   "outputs": [
    {
     "name": "stdout",
     "output_type": "stream",
     "text": [
      "Creating testing set for [49608:49656]\n"
     ]
    },
    {
     "name": "stderr",
     "output_type": "stream",
     "text": [
      "(1/2): 100%|██████████| 24/24 [00:02<00:00,  9.08it/s]\n",
      "(2/2): 100%|██████████| 24/24 [00:02<00:00,  8.75it/s]\n"
     ]
    }
   ],
   "source": [
    "from sklearn.multioutput import MultiOutputRegressor\n",
    "from lightgbm import LGBMRegressor\n",
    "\n",
    "pm_test_file=\"BeijingPM_test.csv\"\n",
    "\n",
    "met_fea={}\n",
    "for col in y_met:\n",
    "    met_fea[col]=[]\n",
    "    for t in range(1,lag_hours+1):\n",
    "        met_fea[col].append(\"%s_lag%d\" % (col,t))\n",
    "    for r in [\"mean\",\"max\",\"min\"]:\n",
    "        met_fea[col].append(\"%s_%s\" % (col,r))\n",
    "\n",
    "if os.path.exists(pm_test_file):\n",
    "    print(\"Reading the testing set from %s\" % pm_test_file)\n",
    "    pm_testset=pd.read_csv(pm_test_file)\n",
    "else:\n",
    "    pm_testset=data.loc[test_idx].copy()\n",
    "    print(\"Creating testing set for [%d:%d]\" % (test_idx[0],test_idx[-1]+1))\n",
    "    pre={}\n",
    "    for c in y_met:\n",
    "        pre[c]=[]\n",
    "    for i,lowb in enumerate(lowbs):\n",
    "        met_train=data[:lowb]\n",
    "        models={}\n",
    "        for col in y_met:\n",
    "            models[col]=LGBMRegressor()\n",
    "            models[col].fit(met_train[x_met+met_fea[col]],met_train[col])\n",
    "        for t in tqdm(range(lowb,lowb+24),desc=\"(%d/%d)\" % (i+1,len(lowbs))):\n",
    "            fill_fea(pm_testset,t,y_met)\n",
    "            for col in y_met:\n",
    "                pre[col].append(*models[col].predict(pm_testset.loc[[t],x_met+met_fea[col]]))\n",
    "                pm_testset.loc[t,col]=pre[col][-1]\n",
    "    pm_testset.to_csv(pm_test_file,index=False)\n",
    "\n",
    "pm_testset.index=test_idx"
   ]
  },
  {
   "cell_type": "markdown",
   "metadata": {},
   "source": [
    "## Predict PM2.5"
   ]
  },
  {
   "cell_type": "code",
   "execution_count": 4,
   "metadata": {
    "scrolled": false
   },
   "outputs": [
    {
     "name": "stdout",
     "output_type": "stream",
     "text": [
      "Predicting PM2.5 for [49608:49655]\n",
      "[LightGBM] [Warning] min_data_in_leaf is set=20, min_child_samples=20 will be ignored. Current value: min_data_in_leaf=20\n",
      "[LightGBM] [Warning] bagging_freq is set=50, subsample_freq=0 will be ignored. Current value: bagging_freq=50\n",
      "[LightGBM] [Warning] feature_fraction is set=1.0, colsample_bytree=1.0 will be ignored. Current value: feature_fraction=1.0\n",
      "[LightGBM] [Warning] bagging_fraction is set=1.0, subsample=1.0 will be ignored. Current value: bagging_fraction=1.0\n"
     ]
    },
    {
     "name": "stderr",
     "output_type": "stream",
     "text": [
      "[49608:49632] (1/2): 100%|██████████| 24/24 [00:01<00:00, 22.57it/s]\n"
     ]
    },
    {
     "name": "stdout",
     "output_type": "stream",
     "text": [
      "[LightGBM] [Warning] min_data_in_leaf is set=20, min_child_samples=20 will be ignored. Current value: min_data_in_leaf=20\n",
      "[LightGBM] [Warning] bagging_freq is set=50, subsample_freq=0 will be ignored. Current value: bagging_freq=50\n",
      "[LightGBM] [Warning] feature_fraction is set=1.0, colsample_bytree=1.0 will be ignored. Current value: feature_fraction=1.0\n",
      "[LightGBM] [Warning] bagging_fraction is set=1.0, subsample=1.0 will be ignored. Current value: bagging_fraction=1.0\n"
     ]
    },
    {
     "name": "stderr",
     "output_type": "stream",
     "text": [
      "[49632:49656] (2/2): 100%|██████████| 24/24 [00:01<00:00, 21.01it/s]\n"
     ]
    }
   ],
   "source": [
    "pm_predict_file=\"BeijingPM_prediction.csv\"\n",
    "\n",
    "pm_df_list=[]\n",
    "\n",
    "# Parameters for PM2.5 prediction\n",
    "pm_model_params={\n",
    "    'objective': 'l2',\n",
    "    'num_leaves': 64,\n",
    "    'min_data_in_leaf': 20,\n",
    "    'max_depth': 30,\n",
    "    'learning_rate': 0.1,\n",
    "    'feature_fraction': 1.0,\n",
    "    'bagging_freq': 50,\n",
    "    'bagging_fraction': 1.0,\n",
    "    'verbose': -1\n",
    "}\n",
    "\n",
    "\n",
    "model_names=[\"LightGBM\",\"LightGBM + holidays and special events\"]\n",
    "\n",
    "if os.path.exists(pm_predict_file):\n",
    "    print(\"Reading existing PM2.5 prediction from %s\" % pm_predict_file)\n",
    "    pm_df=pd.read_csv(pm_predict_file)\n",
    "else:\n",
    "    print(\"Predicting PM2.5 for [%d:%d]\" % (test_idx[0],test_idx[-1]))\n",
    "    pm_test_control=pd.DataFrame(pm_testset,copy=True)\n",
    "    pm_test_datetime=pd.DataFrame(pm_testset,copy=True)\n",
    "    for i,lowb in enumerate(lowbs):\n",
    "        pm_train=data[:lowb]\n",
    "        pm_control=LGBMRegressor(random_state=101,**pm_model_params)\n",
    "        pm_control.fit(pm_train[x_pm],pm_train[\"PM\"])\n",
    "        pm_datetime=LGBMRegressor(random_state=101,**pm_model_params)\n",
    "        pm_datetime.fit(pm_train[x_pm+datetime_cols],pm_train[\"PM\"])\n",
    "        pm_predict_control=[]\n",
    "        pm_predict_datetime=[]\n",
    "        for k in tqdm(range(lowb,lowb+24),desc=\"[%d:%d] (%d/%d)\" % (lowb,lowb+24,i+1,len(lowbs))):\n",
    "            fill_fea(pm_test_control,k,[\"PM\"])\n",
    "            fill_fea(pm_test_datetime,k,[\"PM\"])\n",
    "            pm_predict_control.append(pm_control.predict(pm_test_control.loc[[k],x_pm])[0])\n",
    "            pm_predict_datetime.append(pm_datetime.predict(pm_test_datetime.loc[[k],x_pm+datetime_cols])[0])\n",
    "            pm_test_control.loc[k,\"PM\"]=pm_predict_control[-1]\n",
    "            pm_test_datetime.loc[k,\"PM\"]=pm_predict_datetime[-1]\n",
    "\n",
    "        pm_df_list.append(pd.DataFrame(\n",
    "            {model_names[0]:pm_predict_control,model_names[1]:pm_predict_datetime}))\n",
    "        pm_df=pd.concat(pm_df_list)\n",
    "        pm_df.to_csv(pm_predict_file,index=False)\n",
    "\n",
    "pm_df.index=test_idx"
   ]
  },
  {
   "cell_type": "markdown",
   "metadata": {},
   "source": [
    "## Model Evaluation\n",
    "\n",
    "After predicting PM2.5 concentration, we now begin analyzing the performance. In our study, we use three evaluation metrics to rank our model (let $y_i$ be the true value and $p_i$ be the predicted values).\n",
    "\n",
    "$$MAE=\\frac1N\\sum_{i=1}^N|y_i-p_i|\\quad RMSE=\\sqrt{\\frac1N\\sum_{i=1}^N(y_i-p_i)^2}\\quad SMAPE=\\frac1N\\sum_{i=1}^N\\frac{|y_i-p_i|}{(|y_i|+|p_i|)/2}$$"
   ]
  },
  {
   "cell_type": "code",
   "execution_count": 5,
   "metadata": {},
   "outputs": [
    {
     "data": {
      "text/html": [
       "<div>\n",
       "<style scoped>\n",
       "    .dataframe tbody tr th:only-of-type {\n",
       "        vertical-align: middle;\n",
       "    }\n",
       "\n",
       "    .dataframe tbody tr th {\n",
       "        vertical-align: top;\n",
       "    }\n",
       "\n",
       "    .dataframe thead th {\n",
       "        text-align: right;\n",
       "    }\n",
       "</style>\n",
       "<table border=\"1\" class=\"dataframe\">\n",
       "  <thead>\n",
       "    <tr style=\"text-align: right;\">\n",
       "      <th></th>\n",
       "      <th>MAE</th>\n",
       "      <th>RMSE</th>\n",
       "      <th>SMAPE</th>\n",
       "    </tr>\n",
       "  </thead>\n",
       "  <tbody>\n",
       "    <tr>\n",
       "      <th>LightGBM</th>\n",
       "      <td>5.319195</td>\n",
       "      <td>7.671777</td>\n",
       "      <td>0.444225</td>\n",
       "    </tr>\n",
       "    <tr>\n",
       "      <th>LightGBM + holidays and special events</th>\n",
       "      <td>4.783741</td>\n",
       "      <td>6.535935</td>\n",
       "      <td>0.427308</td>\n",
       "    </tr>\n",
       "  </tbody>\n",
       "</table>\n",
       "</div>"
      ],
      "text/plain": [
       "                                             MAE      RMSE     SMAPE\n",
       "LightGBM                                5.319195  7.671777  0.444225\n",
       "LightGBM + holidays and special events  4.783741  6.535935  0.427308"
      ]
     },
     "execution_count": 5,
     "metadata": {},
     "output_type": "execute_result"
    }
   ],
   "source": [
    "# Combine true values and predicted values for comparison\n",
    "pm_comp=pd.concat([data.loc[pm_df.index,\"PM\"],pm_df],axis=1)\n",
    "pm_comp.index=picker[test_idx]\n",
    "\n",
    "def get_mae(y,p):\n",
    "    return abs(y-p).mean()\n",
    "\n",
    "def get_rmse(y,p):\n",
    "    return np.sqrt(np.square(y-p).mean())\n",
    "\n",
    "def get_smape(y,p):\n",
    "    return 1/len(y)*np.sum(2*abs(y-p)/(abs(y)+abs(p)+1e-7))\n",
    "\n",
    "eval_metrics={\"MAE\":get_mae,\"RMSE\":get_rmse,\"SMAPE\":get_smape}\n",
    "\n",
    "def pm_metrics(col,m):\n",
    "    return eval_metrics[m](pm_comp[\"PM\"],pm_comp[col])\n",
    "\n",
    "pm_metrics={}\n",
    "\n",
    "for m in eval_metrics.keys():\n",
    "    pm_metrics[m]=[]\n",
    "\n",
    "for col in [\"LightGBM\",\"LightGBM + holidays and special events\"]:\n",
    "    for m in pm_metrics.keys():\n",
    "        pm_metrics[m].append(eval_metrics[m](pm_comp[\"PM\"],pm_comp[col]))\n",
    "\n",
    "edf=pd.DataFrame(pm_metrics,index=[\"LightGBM\",\"LightGBM + holidays and special events\"])\n",
    "edf.to_csv(\"model_scores.csv\")\n",
    "edf"
   ]
  },
  {
   "cell_type": "code",
   "execution_count": 6,
   "metadata": {},
   "outputs": [
    {
     "data": {
      "image/png": "[encoded data removed]",
      "text/plain": [
       "<Figure size 1080x504 with 1 Axes>"
      ]
     },
     "metadata": {
      "needs_background": "light"
     },
     "output_type": "display_data"
    }
   ],
   "source": [
    "plt.figure(figsize=(15,7))\n",
    "ax=plt.gca()\n",
    "ax.set_title(\"True PM2.5 vs. LightGBM prediction during %s and %s\" % (pm_comp.index[0],pm_comp.index[-1]))\n",
    "ax.set_ylabel(\"PM2.5 concentration ($ug/m^3$)\")\n",
    "pm_comp[[\"PM\",*model_names[:2]]].plot(ax=ax)\n",
    "\n",
    "plt.savefig(\"graphs/lgbm_prediction.png\")"
   ]
  },
  {
   "cell_type": "code",
   "execution_count": null,
   "metadata": {},
   "outputs": [],
   "source": []
  }
 ],
 "metadata": {
  "kernelspec": {
   "display_name": "Python 3",
   "language": "python",
   "name": "python3"
  },
  "language_info": {
   "codemirror_mode": {
    "name": "ipython",
    "version": 3
   },
   "file_extension": ".py",
   "mimetype": "text/x-python",
   "name": "python",
   "nbconvert_exporter": "python",
   "pygments_lexer": "ipython3",
   "version": "3.8.6"
  }
 },
 "nbformat": 4,
 "nbformat_minor": 2
}
